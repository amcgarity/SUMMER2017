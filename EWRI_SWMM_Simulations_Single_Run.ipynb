{
 "cells": [
  {
   "cell_type": "markdown",
   "metadata": {},
   "source": [
    "### Examine a SWMM report file"
   ]
  },
  {
   "cell_type": "code",
   "execution_count": null,
   "metadata": {
    "collapsed": false
   },
   "outputs": [],
   "source": [
    "from swmm_read import *\n",
    "#fname = \"wingohocking_PWD_2012-13.rpt\"\n",
    "fname = \"SWMM_modified.rpt\"\n",
    "rptFileStr = read_rpt_file(fname)\n",
    "#print rptFileStr"
   ]
  },
  {
   "cell_type": "markdown",
   "metadata": {},
   "source": [
    "### Read and display the report"
   ]
  },
  {
   "cell_type": "code",
   "execution_count": null,
   "metadata": {
    "collapsed": false
   },
   "outputs": [],
   "source": [
    "reportDict = read_report(rptFileStr)\n",
    "reportDict"
   ]
  },
  {
   "cell_type": "markdown",
   "metadata": {},
   "source": [
    "### Test SWMM runs from Jupyter "
   ]
  },
  {
   "cell_type": "code",
   "execution_count": null,
   "metadata": {
    "collapsed": false
   },
   "outputs": [],
   "source": [
    "from swmm_run import *\n",
    "swmmInpFileNameStr = \"wingohocking_PWD_2011-12.inp\"  \n",
    "swmmRptFileNameStr = \"wingohocking_PWD_2011-12.rpt\"\n",
    "timeStatsDict = runswmm(swmmInpFileNameStr,swmmRptFileNameStr)"
   ]
  },
  {
   "cell_type": "markdown",
   "metadata": {},
   "source": [
    "### Select a watershed, a weather year, and find the best treatment ratio"
   ]
  },
  {
   "cell_type": "code",
   "execution_count": null,
   "metadata": {
    "collapsed": false
   },
   "outputs": [],
   "source": [
    "from swmm_read import *\n",
    "from swmm_run import *\n",
    "swmmRptFileNameStr = \"wingohocking_PWD_2012-13.rpt\"\n",
    "swmmRptStr = read_rpt_file(swmmRptFileNameStr)\n",
    "swmmRptDict = read_report(swmmRptStr)\n",
    "outfallFlowTimeSeries = swmmRptDict[\"outflow_series\"]\n",
    "wingohockingImperviousArea = 3122.0  # acres\n",
    "#ratioList = [0.075,0.080,0.085,0.090,0.095,0.10]\n",
    "ratioList = [0.080,0.081,0.082,0.083,0.084,0.085]\n",
    "for treatmentRatio in ratioList:   # CFS / impervious acre\n",
    "    thresholdCFS = wingohockingImperviousArea*treatmentRatio\n",
    "    outfallDict = calculate_cso(outfallFlowTimeSeries,thresholdCFS)\n",
    "    csoVolumeMgal = outfallDict['cso_volume']/1e6\n",
    "    totVolumeMgal = outfallDict['tot_volume']/1e6\n",
    "    print \"Treatment Ratio = %0.3f,  CSO Volume = %0.0f MGAL,  Total Volume = %0.0f MGAL\" % (treatmentRatio,csoVolumeMgal,totVolumeMgal)"
   ]
  },
  {
   "cell_type": "markdown",
   "metadata": {
    "collapsed": true
   },
   "source": [
    "### SINGLE RUN: Scatter LID around subcatchments, calculate CSO, display results"
   ]
  },
  {
   "cell_type": "code",
   "execution_count": null,
   "metadata": {
    "collapsed": false
   },
   "outputs": [],
   "source": [
    "import yaml\n",
    "from swmm_objects import *\n",
    "from swmm_read import *\n",
    "from swmm_run import *\n",
    "\n",
    "squareFeetInOneAcre = 43560.0\n",
    "swmmInpFileNameStr = \"wingohocking_PWD_2012-13.inp\"  # initial SWMM .inp file\n",
    "treatmentRatio = 0.081   # cfs/imperv_acre calibrated for Wingohocking T-14 outfall 7/1/12 - 6/30/13\n",
    "watershedImpervAreaAcre = total_impervious_area(swmmInpFileNameStr)\n",
    "thresholdOutflowCFS = treatmentRatio*watershedImpervAreaAcre\n",
    "lidDictFileNameStr = \"LID_Dict.yaml\"\n",
    "lidShedsFileNameStr = \"Wingohocking_LID_Sheds_List.yaml\"\n",
    "f = open(lidDictFileNameStr,'r')   # Read the no LID changable parameters from file\n",
    "lidDict = yaml.load(f)  # list of dicts, one for each line in [LID_USAGE]\n",
    "f.close()\n",
    "f = open(lidShedsFileNameStr,'r')   # Read the no LID changable parameters from file\n",
    "lidShedsList = yaml.load(f)  # list of dicts, one for each line in [LID_USAGE]\n",
    "f.close()\n",
    "\n",
    "swmmInpStr = read_inp_file(swmmInpFileNameStr)\n",
    "(section_names,sections) = read_inp(swmmInpStr)\n",
    "model = swmm_model(\"Model\",section_names,sections)\n",
    "swmmInputFileStr=model.output()\n",
    "\n",
    "subcatAreaDict = {}\n",
    "subcatImpPctDict = {}\n",
    "subcatTreatableAreaDict = {}\n",
    "for lidShed in lidShedsList:\n",
    "    area = model.getSubcatchmentArea(lidShed)\n",
    "    subcatAreaDict[lidShed] = area\n",
    "    pctImperv = model.getSubcatchmentPctImperv(lidShed)\n",
    "    subcatImpPctDict[lidShed] = pctImperv\n",
    "    subcatTreatableAreaDict[lidShed] = area*pctImperv/100.0\n",
    "\n",
    "lid = 'wakefield_BR_RG'\n",
    "\n",
    "contribImpervAreaAcre = lidDict[lid]['ContribImpervArea'] / squareFeetInOneAcre  # acres\n",
    "subcatMaxLID = {}\n",
    "for lidShed in lidShedsList:\n",
    "    maxLID = int(subcatTreatableAreaDict[lidShed]/contribImpervAreaAcre)\n",
    "    subcatMaxLID[lidShed] = maxLID\n",
    "    model.lidChangeNumber(lidShed,lid,maxLID)\n",
    "    area = model.getLidArea(lidShed,lid)   # the lid footprint in the subcatchment (all subcats the same now)\n",
    "    model.lidChangeArea(lidShed,lid,area,contribImpervAreaAcre)  # must call to properly set FromImp parameter !!\n",
    "swmmInputFileStr=model.output()\n",
    "swmmRptDict = swmm_run_return_results(swmmInputFileStr)\n",
    "outfallFlowTimeSeries = swmmRptDict[\"outflow_seriesCFS\"]\n",
    "outfallDict = calculate_cso(outfallFlowTimeSeries,thresholdOutflowCFS)\n",
    "csoVolumeMgal = outfallDict['cso_volume']/1e6\n",
    "totVolumeMgal = outfallDict['tot_volume']/1e6\n",
    "csoReductionMgal = 1552.0 - csoVolumeMgal\n",
    "print \"Treatment Ratio = %0.3f,  CSO Volume = %0.0f MGAL,  CSO Reduction = %0.0f MGAL\" % (treatmentRatio,csoVolumeMgal,csoReductionMgal)"
   ]
  },
  {
   "cell_type": "markdown",
   "metadata": {},
   "source": [
    "### SWMM input and report files associated with the single run are stored and can be displayed using \"print\""
   ]
  },
  {
   "cell_type": "code",
   "execution_count": null,
   "metadata": {
    "collapsed": false
   },
   "outputs": [],
   "source": [
    "str = swmmRptDict['swmmInpFileStr']\n",
    "#str = swmmRptDict['swmmRptFileStr']\n",
    "print str"
   ]
  }
 ],
 "metadata": {
  "anaconda-cloud": {},
  "kernelspec": {
   "display_name": "Python [default]",
   "language": "python",
   "name": "python2"
  },
  "language_info": {
   "codemirror_mode": {
    "name": "ipython",
    "version": 2
   },
   "file_extension": ".py",
   "mimetype": "text/x-python",
   "name": "python",
   "nbconvert_exporter": "python",
   "pygments_lexer": "ipython2",
   "version": "2.7.12"
  }
 },
 "nbformat": 4,
 "nbformat_minor": 0
}
