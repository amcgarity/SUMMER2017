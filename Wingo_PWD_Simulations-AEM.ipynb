{
 "cells": [
  {
   "cell_type": "markdown",
   "metadata": {},
   "source": [
    "### Examine a SWMM report file"
   ]
  },
  {
   "cell_type": "code",
   "execution_count": null,
   "metadata": {
    "collapsed": false
   },
   "outputs": [],
   "source": [
    "from swmm_read import *\n",
    "#fname = \"wingohocking_PWD_2012-13.rpt\"\n",
    "fname = \"SWMM_modified.rpt\"\n",
    "rptFileStr = read_rpt_file(fname)\n",
    "#print rptFileStr"
   ]
  },
  {
   "cell_type": "markdown",
   "metadata": {},
   "source": [
    "### Read and display the report"
   ]
  },
  {
   "cell_type": "code",
   "execution_count": null,
   "metadata": {
    "collapsed": false
   },
   "outputs": [],
   "source": [
    "reportDict = read_report(rptFileStr)\n",
    "reportDict"
   ]
  },
  {
   "cell_type": "markdown",
   "metadata": {},
   "source": [
    "### Test SWMM runs from Jupyter "
   ]
  },
  {
   "cell_type": "code",
   "execution_count": null,
   "metadata": {
    "collapsed": false
   },
   "outputs": [],
   "source": [
    "from swmm_run import *\n",
    "swmmInpFileNameStr = \"wingohocking_PWD_2011-12.inp\"  \n",
    "swmmRptFileNameStr = \"wingohocking_PWD_2011-12.rpt\"\n",
    "timeStatsDict = runswmm(swmmInpFileNameStr,swmmRptFileNameStr)"
   ]
  },
  {
   "cell_type": "markdown",
   "metadata": {},
   "source": [
    "### Select a watershed, a weather year, and find the best treatment ratio"
   ]
  },
  {
   "cell_type": "code",
   "execution_count": null,
   "metadata": {
    "collapsed": false
   },
   "outputs": [],
   "source": [
    "from swmm_read import *\n",
    "from swmm_run import *\n",
    "swmmRptFileNameStr = \"wingohocking_PWD_2012-13.rpt\"\n",
    "swmmRptStr = read_rpt_file(swmmRptFileNameStr)\n",
    "swmmRptDict = read_report(swmmRptStr)\n",
    "outfallFlowTimeSeries = swmmRptDict[\"outflow_series\"]\n",
    "wingohockingImperviousArea = 3122.0  # acres\n",
    "#ratioList = [0.075,0.080,0.085,0.090,0.095,0.10]\n",
    "ratioList = [0.080,0.081,0.082,0.083,0.084,0.085]\n",
    "for treatmentRatio in ratioList:   # CFS / impervious acre\n",
    "    thresholdCFS = wingohockingImperviousArea*treatmentRatio\n",
    "    outfallDict = calculate_cso(outfallFlowTimeSeries,thresholdCFS)\n",
    "    csoVolumeMgal = outfallDict['cso_volume']/1e6\n",
    "    totVolumeMgal = outfallDict['tot_volume']/1e6\n",
    "    print \"Treatment Ratio = %0.3f,  CSO Volume = %0.0f MGAL,  Total Volume = %0.0f MGAL\" % (treatmentRatio,csoVolumeMgal,totVolumeMgal)"
   ]
  },
  {
   "cell_type": "markdown",
   "metadata": {
    "collapsed": true
   },
   "source": [
    "### SINGLE RUN: Scatter LID around subcatchments, calculate CSO, display results"
   ]
  },
  {
   "cell_type": "code",
   "execution_count": null,
   "metadata": {
    "collapsed": false
   },
   "outputs": [],
   "source": [
    "import yaml\n",
    "from swmm_objects import *\n",
    "from swmm_read import *\n",
    "from swmm_run import *\n",
    "\n",
    "squareFeetInOneAcre = 43560.0\n",
    "swmmInpFileNameStr = \"wingohocking_PWD_2012-13.inp\"  # initial SWMM .inp file\n",
    "treatmentRatio = 0.081   # cfs/imperv_acre calibrated for Wingohocking T-14 outfall 7/1/12 - 6/30/13\n",
    "watershedImpervAreaAcre = total_impervious_area(swmmInpFileNameStr)\n",
    "thresholdOutflowCFS = treatmentRatio*watershedImpervAreaAcre\n",
    "lidDictFileNameStr = \"LID_Dict.yaml\"\n",
    "lidShedsFileNameStr = \"Wingohocking_LID_Sheds_List.yaml\"\n",
    "f = open(lidDictFileNameStr,'r')   # Read the no LID changable parameters from file\n",
    "lidDict = yaml.load(f)  # list of dicts, one for each line in [LID_USAGE]\n",
    "f.close()\n",
    "f = open(lidShedsFileNameStr,'r')   # Read the no LID changable parameters from file\n",
    "lidShedsList = yaml.load(f)  # list of dicts, one for each line in [LID_USAGE]\n",
    "f.close()\n",
    "\n",
    "swmmInpStr = read_inp_file(swmmInpFileNameStr)\n",
    "(section_names,sections) = read_inp(swmmInpStr)\n",
    "model = swmm_model(\"Model\",section_names,sections)\n",
    "swmmInputFileStr=model.output()\n",
    "\n",
    "subcatAreaDict = {}\n",
    "subcatImpPctDict = {}\n",
    "subcatTreatableAreaDict = {}\n",
    "for lidShed in lidShedsList:\n",
    "    area = model.getSubcatchmentArea(lidShed)\n",
    "    subcatAreaDict[lidShed] = area\n",
    "    pctImperv = model.getSubcatchmentPctImperv(lidShed)\n",
    "    subcatImpPctDict[lidShed] = pctImperv\n",
    "    subcatTreatableAreaDict[lidShed] = area*pctImperv/100.0\n",
    "\n",
    "lid = 'wakefield_BR_RG'\n",
    "\n",
    "contribImpervAreaAcre = lidDict[lid]['ContribImpervArea'] / squareFeetInOneAcre  # acres\n",
    "subcatMaxLID = {}\n",
    "for lidShed in lidShedsList:\n",
    "    maxLID = int(subcatTreatableAreaDict[lidShed]/contribImpervAreaAcre)\n",
    "    subcatMaxLID[lidShed] = maxLID\n",
    "    model.lidChangeNumber(lidShed,lid,maxLID)\n",
    "    area = model.getLidArea(lidShed,lid)   # the lid footprint in the subcatchment (all subcats the same now)\n",
    "    model.lidChangeArea(lidShed,lid,area,contribImpervAreaAcre)  # must call to properly set FromImp parameter !!\n",
    "swmmInputFileStr=model.output()\n",
    "swmmRptDict = swmm_run_return_results(swmmInputFileStr)\n",
    "outfallFlowTimeSeries = swmmRptDict[\"outflow_seriesCFS\"]\n",
    "outfallDict = calculate_cso(outfallFlowTimeSeries,thresholdOutflowCFS)\n",
    "csoVolumeMgal = outfallDict['cso_volume']/1e6\n",
    "totVolumeMgal = outfallDict['tot_volume']/1e6\n",
    "csoReductionMgal = 1552.0 - csoVolumeMgal\n",
    "print \"Treatment Ratio = %0.3f,  CSO Volume = %0.0f MGAL,  CSO Reduction = %0.0f MGAL\" % (treatmentRatio,csoVolumeMgal,csoReductionMgal)"
   ]
  },
  {
   "cell_type": "markdown",
   "metadata": {},
   "source": [
    "### SWMM input and report files associated with the single run are stored and can be displayed using \"print\""
   ]
  },
  {
   "cell_type": "code",
   "execution_count": null,
   "metadata": {
    "collapsed": false
   },
   "outputs": [],
   "source": [
    "str = swmmRptDict['swmmInpFileStr']\n",
    "#str = swmmRptDict['swmmRptFileStr']\n",
    "print str"
   ]
  },
  {
   "cell_type": "markdown",
   "metadata": {},
   "source": [
    "### MULTIPLE RUNS: Import Libraries, Specify SWMM INP file, Setup MongoDB Database to store results"
   ]
  },
  {
   "cell_type": "code",
   "execution_count": null,
   "metadata": {
    "collapsed": false
   },
   "outputs": [],
   "source": [
    "import yaml\n",
    "from swmm_objects import *\n",
    "from swmm_read import *\n",
    "from swmm_run import *\n",
    "from pymongo import MongoClient\n",
    "from random import randint\n",
    "\n",
    "squareFeetInOneAcre = 43560.0\n",
    "swmmInpFileNameStr = \"wingohocking_PWD_2012-13.inp\"  # initial SWMM .inp file\n",
    "treatmentRatio = 0.081   # cfs/imperv_acre calibrated for Wingohocking T-14 outfall 7/1/12 - 6/30/13\n",
    "lidDictFileNameStr = \"LID_Dict.yaml\"\n",
    "lidShedsFileNameStr = \"Wingohocking_LID_Sheds_List.yaml\"\n",
    "\n",
    "watershedImpervAreaAcre = total_impervious_area(swmmInpFileNameStr)\n",
    "thresholdOutflowCFS = treatmentRatio*watershedImpervAreaAcre\n",
    "\n",
    "f = open(lidDictFileNameStr,'r')   # Read the no LID changable parameters from file\n",
    "lidDict = yaml.load(f)  # list of dicts, one for each line in [LID_USAGE]\n",
    "f.close()\n",
    "f = open(lidShedsFileNameStr,'r')   # Read the no LID changable parameters from file\n",
    "lidShedsList = yaml.load(f)  # list of dicts, one for each line in [LID_USAGE]\n",
    "f.close()\n",
    "\n",
    "swmmInpStr = read_inp_file(swmmInpFileNameStr)\n",
    "(section_names,sections) = read_inp(swmmInpStr)\n",
    "model = swmm_model(\"Model\",section_names,sections)\n",
    "subcatAreaDict = {}\n",
    "subcatImpPctDict = {}\n",
    "subcatTreatableAreaDict = {}\n",
    "for lidShed in lidShedsList:\n",
    "    area = model.getSubcatchmentArea(lidShed)\n",
    "    subcatAreaDict[lidShed] = area\n",
    "    pctImperv = model.getSubcatchmentPctImperv(lidShed)\n",
    "    subcatImpPctDict[lidShed] = pctImperv\n",
    "    subcatTreatableAreaDict[lidShed] = area*pctImperv/100.0\n",
    "\n",
    "mongoServer = 'mongodb://aws-2.greenphilly.net:27017/'  # aws-2 server for GreenPhilly\n",
    "database = \"jcohen4\"\n",
    "username = \"jcohen4\"\n",
    "password = \"wingohocking\"\n",
    "authenticationDatabase = \"jcohen4\"\n",
    "\n",
    "client = MongoClient(mongoServer)\n",
    "db = client[database]   # use or create the database\n",
    "db.authenticate(username, password, source=authenticationDatabase)  # pass credentials to database\n",
    "collectionName = 'y17m04d22_45_Subcat_Testing_Only'\n",
    "thisRunCollection = db[collectionName]    # use or create the collection"
   ]
  },
  {
   "cell_type": "markdown",
   "metadata": {},
   "source": [
    "### Execute the Multirun Case after Zero Run Case is run BELOW"
   ]
  },
  {
   "cell_type": "code",
   "execution_count": null,
   "metadata": {
    "collapsed": false
   },
   "outputs": [],
   "source": [
    "lid = 'wakefield_BR_RG'\n",
    "\n",
    "contribImpervAreaAcre = lidDict[lid]['ContribImpervArea'] / squareFeetInOneAcre  # acres\n",
    "subcatMaxLID = {}\n",
    "for lidShed in lidShedsList:\n",
    "    maxLID = int(subcatTreatableAreaDict[lidShed]/contribImpervAreaAcre)\n",
    "    subcatMaxLID[lidShed] = maxLID\n",
    "    model.lidChangeNumber(lidShed,lid,maxLID)\n",
    "    area = model.getLidArea(lidShed,lid)   # the lid footprint in the subcatchment (all subcats the same now)\n",
    "    model.lidChangeArea(lidShed,lid,area,contribImpervAreaAcre)  # must call to properly set FromImp parameter !!\n",
    "swmmInputFileStr=model.output()\n",
    "#print swmmInputFileStr\n",
    "swmmRptDict = swmm_run_return_results(swmmInputFileStr)\n",
    "outfallFlowTimeSeries = swmmRptDict[\"outflow_seriesCFS\"]\n",
    "outfallDict = calculate_cso(outfallFlowTimeSeries,thresholdOutflowCFS)\n",
    "csoVolumeMgal = outfallDict['cso_volume']/1e6\n",
    "totVolumeMgal = outfallDict['tot_volume']/1e6\n",
    "csoReductionMgal = 1552.0 - csoVolumeMgal\n",
    "print \"Treatment Ratio = %0.3f,  CSO Volume = %0.0f MGAL,  CSO Reduction = %0.0f MGAL\" % (treatmentRatio,csoVolumeMgal,csoReductionMgal)"
   ]
  },
  {
   "cell_type": "code",
   "execution_count": null,
   "metadata": {
    "collapsed": false
   },
   "outputs": [],
   "source": [
    "# Run or continue a run:\n",
    "%autoreload\n",
    "import yaml\n",
    "from swmm_run import *\n",
    "from swmm_objects import *\n",
    "from swmm_read import *\n",
    "from copy import deepcopy\n",
    "\n",
    "from pymongo import MongoClient\n",
    "from datetime import datetime\n",
    "import sys\n",
    "\n",
    "#  IMPORTANT:  Set these for each run:\n",
    "#################################################\n",
    "# mongoServer = None   # use the local mongodb server installed on your computer\n",
    "#mongoServer = 'mongodb://server.mcgarity.info:27017/'  # Art's personal server\n",
    "#mongoServer = 'mongodb://ubuntu:27017/'  # ubuntu Linux virtual machine on Art's Mac\n",
    "mongoServer = 'mongodb://aws-2.greenphilly.net:27017/'  # aws-2 server for GreenPhilly\n",
    "database = \"jcohen4\"\n",
    "username = \"jcohen4\"\n",
    "password = \"wingohocking\"\n",
    "authenticationDatabase = \"jcohen4\"\n",
    "swmmInpFile = \"wingohocking_PWD_Wakefield.inp\"  # initial SWMM .inp file\n",
    "lidListFile = \"PWD_wingo_Wakefield_LID_List.yaml\"\n",
    "################################################\n",
    "squareFeetInOneAcre = 43560.0\n",
    "client = MongoClient(mongoServer)\n",
    "db = client[database]   # use or create the database\n",
    "db.authenticate(username, password, source=authenticationDatabase)  # pass credentials to database\n",
    "collection = 'y17m01d10_AEM_45_Subcat_Wakefield_Rain_Garden_1'\n",
    "thisRunCollection = db[collection]\n",
    "infile = open(swmmInpFile,'r')\n",
    "swmmInpStr = infile.readlines()\n",
    "infile.close()\n",
    "(section_names,sections) = read_inp(swmmInpStr)\n",
    "modelTemp = swmm_model(\"ModelTemp\",section_names,sections)\n",
    "f = open(lidListFile,'r')   # Read the LID parameters used to calculate [LID_USAGE]\n",
    "lidList = yaml.load(f)  # list of dicts, one for each line in [LID_USAGE]\n",
    "f.close()\n",
    "#########################\n",
    "numSubcatch = 45\n",
    "numLID = 1\n",
    "numberOfSimulations = 50\n",
    "#########################\n",
    "numVariables = numSubcatch*numLID\n",
    "initialRemainingTreatableArea = {}   # Dict indexed by subcatchment name string \n",
    "for lidListEntry in range(numVariables):\n",
    "    thisLidInfo = lidList[lidListEntry]\n",
    "    subcatName = thisLidInfo['Subcat']\n",
    "    areaSubcat = modelTemp.getSubcatchmentArea(subcatName)     # Acres   \n",
    "    impPctSubcat = modelTemp.getSubcatchmentPctImperv(subcatName)        \n",
    "    initialRemainingTreatableArea[subcatName] = (impPctSubcat/100.0)*areaSubcat  # INITIAL values (Acre)\n",
    "#print initialRemainingTreatableArea\n",
    "permList = []\n",
    "greenedAcreList = []\n",
    "\n",
    "for i in range(0,numberOfSimulations):#number of simulations\n",
    "    remainingTreatableArea = dict(initialRemainingTreatableArea)   # Dict indexed by subcatchment name string  \n",
    "    lidListEntry = 0\n",
    "    randomPerm = []\n",
    "    greened = []\n",
    "    lidListEntry = 0    \n",
    "    for lid in range(numLID):\n",
    "        for subcat in range(numSubcatch):\n",
    "            thisLidInfo = lidList[lidListEntry]\n",
    "            #lidName = thisLidInfo['LID']\n",
    "            subcatName = thisLidInfo['Subcat']\n",
    "            areaSubcat = modelTemp.getSubcatchmentArea(subcatName)     # Acres          \n",
    "            contribImpervArea = thisLidInfo['ContribImpervArea']/squareFeetInOneAcre  #ft2 to Acres        \n",
    "            numLidMaximum = int(remainingTreatableArea[subcatName]/contribImpervArea)\n",
    "            #randomIntegerUpper = randint(1,19)\n",
    "            #upperFraction = float(randomIntegerUpper)/20.0\n",
    "\n",
    "            #randomScaleFactor = randint(3,50)\n",
    "            #random1 = randint(1,randomScaleFactor)\n",
    "            #random2 = randint(1,randomScaleFactor)\n",
    "            #if random1 > random2:\n",
    "            #    randomUpper = random1\n",
    "            #    randomLower = random2\n",
    "            #else:\n",
    "            #    randomUpper = random2\n",
    "            #    randomLower = random1\n",
    "            ############\n",
    "            #lower = numLidMaximum/randomUpper\n",
    "            #upper = numLidMaximum/randomLower \n",
    "            ############\n",
    "            fixedLowerFraction = 0.7\n",
    "            fixedUpperFraction = 0.98\n",
    "            lower = int(fixedLowerFraction*numLidMaximum)\n",
    "            upper = int(fixedUpperFraction*numLidMaximum)\n",
    "            ############\n",
    "            randomNumberLid = randint(lower,upper)\n",
    "            randomPerm.append(randomNumberLid)\n",
    "            greened.append(randomNumberLid*lidList[lidListEntry]['GreenedAcres'])\n",
    "            remainingTreatableArea[subcatName] = remainingTreatableArea[subcatName] - \\\n",
    "                  randomNumberLid*contribImpervArea #Acres\n",
    "            lidListEntry += 1\n",
    "        #print remainingTreatableArea\n",
    "    permList.append(randomPerm)\n",
    "    greenedAcreList.append(greened)\n",
    "#print permList \n",
    "#print greenedAcreList\n",
    "\n",
    "\n",
    "runNum = 0\n",
    "for perm in permList:\n",
    "    greened = greenedAcreList[runNum]\n",
    "    totGreenedAcres = sum(greened)\n",
    "    runNum += 1\n",
    "    print \"Run Number %s\" % runNum  \n",
    "    print \"Total Greened Acres %0.2f\" % totGreenedAcres\n",
    "    print perm\n",
    "    newRunList=deepcopy(lidList)  # copy the zeroLidList into a new list\n",
    "    #totalAreaTreated = 0\n",
    "    for i in range(0,numVariables): \n",
    "        #lidNumber = perm[i] # random number of LIDs for this variable\n",
    "        #subArea = newRunList[i]['SubcatArea'] #area of subcatchment\n",
    "        newRunList[i]['Number'] = perm[i]  # random number of lids for this variable\n",
    "    newRunDocId = runswmm(newRunList,swmmInpStr,thisRunCollection,perm)\n",
    "    print \"stored this run in mongodb DocId = %s (zero means failed SWMM run)\" % newRunDocId\n",
    "    #cursor = thisRunCollection.find_one({'_id':newRunDocId})\n",
    "\n",
    "    #print \"Stored record %s for volume = %s\" % (newRunDocId,newVolume)\n",
    "    #print \"volumeReduction = %s\" % (volumeReduction)\n",
    "print \"FINISHED ALL RUNS\"\n"
   ]
  },
  {
   "cell_type": "markdown",
   "metadata": {},
   "source": [
    "## RUN ONLY ONCE:  the Zero LID case"
   ]
  },
  {
   "cell_type": "code",
   "execution_count": null,
   "metadata": {
    "collapsed": false
   },
   "outputs": [],
   "source": [
    "swmmInpFileStr = read_inp_file(swmmInpFileNameStr)\n",
    "swmmRptDict = swmm_run_return_results(swmmInpFileStr)\n",
    "print \"swmmRptDict type is %s\" %  type(swmmRptDict)\n",
    "zeroLidDocId = thisRunCollection.insert_one(swmmRptDict).inserted_id\n",
    "print \"Stored record %s for zero LID usage\" % zeroLidDocId\n",
    "outflowSeriesCFS = swmmRptDict[\"outflow_seriesCFS\"]\n",
    "print \"Calculating Zero LID Annual CSO Volume\"\n"
   ]
  },
  {
   "cell_type": "markdown",
   "metadata": {},
   "source": [
    "### Display Zero LID case"
   ]
  },
  {
   "cell_type": "code",
   "execution_count": null,
   "metadata": {
    "collapsed": false
   },
   "outputs": [],
   "source": [
    "# Show all collections in the database:\n",
    "# collectionNames = sorted(db.collection_names())\n",
    "# collectionNames\n",
    "runs = db[collectionName]\n",
    "cursor = runs.find()\n",
    "noLidRun = cursor[0]\n",
    "print noLidRun['peakCFS']\n",
    "print noLidRun['precipIN']\n",
    "print noLidRun['runoffIN']"
   ]
  }
 ],
 "metadata": {
  "anaconda-cloud": {},
  "kernelspec": {
   "display_name": "Python [default]",
   "language": "python",
   "name": "python2"
  },
  "language_info": {
   "codemirror_mode": {
    "name": "ipython",
    "version": 2
   },
   "file_extension": ".py",
   "mimetype": "text/x-python",
   "name": "python",
   "nbconvert_exporter": "python",
   "pygments_lexer": "ipython2",
   "version": "2.7.12"
  }
 },
 "nbformat": 4,
 "nbformat_minor": 0
}
