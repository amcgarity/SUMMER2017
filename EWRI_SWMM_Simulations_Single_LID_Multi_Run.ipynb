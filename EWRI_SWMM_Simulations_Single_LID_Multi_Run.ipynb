{
 "cells": [
  {
   "cell_type": "markdown",
   "metadata": {},
   "source": [
    "### MULTIPLE RUNS: Import Libraries, READ SWMM INP file, Setup MongoDB Database to store results"
   ]
  },
  {
   "cell_type": "code",
   "execution_count": null,
   "metadata": {
    "collapsed": true
   },
   "outputs": [],
   "source": []
  },
  {
   "cell_type": "code",
   "execution_count": 9,
   "metadata": {
    "collapsed": false
   },
   "outputs": [
    {
     "name": "stdout",
     "output_type": "stream",
     "text": [
      "121\n"
     ]
    }
   ],
   "source": [
    "import yaml\n",
    "from swmm_objects import *\n",
    "from swmm_read import *\n",
    "from swmm_run import *\n",
    "from pymongo import MongoClient\n",
    "from random import randint\n",
    "\n",
    "# Constants:\n",
    "squareFeetInOneAcre = 43560.0\n",
    "# Specify important files and parameters for the location:\n",
    "swmmInpFileNameStr = \"wingohocking_PWD_2012-13.inp\"  # initial SWMM .inp file\n",
    "treatmentRatio = 0.081   # cfs/imperv_acre calibrated for Wingohocking T-14 outfall 7/1/12 - 6/30/13\n",
    "lidDictFileNameStr = \"LID_Dict.yaml\"\n",
    "lidShedsFileNameStr = \"Wingohocking_LID_Sheds_List.yaml\"\n",
    "# Calculate parameters for the watershed from the SWMM model INP file:\n",
    "watershedImpervAreaAcre = total_impervious_area(swmmInpFileNameStr)\n",
    "# Load YAML files \n",
    "f = open(lidDictFileNameStr,'r')   \n",
    "lidDict = yaml.load(f)           # Read the LID ContribImpervArea and GreenedAcres\n",
    "f.close()\n",
    "f = open(lidShedsFileNameStr,'r')   \n",
    "lidShedsList = yaml.load(f)  # Read the list of subcatchments where LIDs can be installed\n",
    "f.close()\n",
    "# Compute a dictionary of contributing impervious ACRES for each LID \n",
    "contribImpervAreaAcre = {}\n",
    "for lid in lidDict:\n",
    "    contribImpervAreaAcre[lid] = lidDict[lid]['ContribImpervArea'] / squareFeetInOneAcre  # acres\n",
    "# Open the specified SWMM zeroLID INP file and obtain necessary data from it for multiple runs:    \n",
    "swmmInpStr = read_inp_file(swmmInpFileNameStr)\n",
    "(section_names,sections) = read_inp(swmmInpStr)\n",
    "model = swmm_model(\"Model\",section_names,sections)\n",
    "subcatAreaDict = {}            # Total area in each subcatchment (never changes)\n",
    "subcatImpPctDict = {}          # ORIGINAL Impervious percentage in each subcatchment (changes when LID added)\n",
    "subcatTreatableAreaDict = {}   # Original IMPERVIOUS area in zero LID SWMM file\n",
    "subcatMaxLID = {}              # Maximum number of each LID that can be installed in each subcatchment\n",
    "subcatMaxGI = {}               # Maximum greened acres for each LID that can be installed in each subcatchment\n",
    "# Now calculate the dictionaries defined above from data in the zero LID SWMM input file:\n",
    "for lidShed in lidShedsList:\n",
    "    area = model.getSubcatchmentArea(lidShed)\n",
    "    subcatAreaDict[lidShed] = area\n",
    "    pctImperv = model.getSubcatchmentPctImperv(lidShed)\n",
    "    subcatImpPctDict[lidShed] = pctImperv\n",
    "    subcatTreatableAreaDict[lidShed] = area*pctImperv/100.0\n",
    "    subcatMaxLID[lidShed] = {}\n",
    "    for lid in lidDict:\n",
    "        subcatMaxLID[lidShed][lid] = int(subcatTreatableAreaDict[lidShed]/contribImpervAreaAcre[lid])\n",
    "# Specify MongoDB database server to use and login with credentials:    \n",
    "mongoServer = 'mongodb://aws-2.greenphilly.net:27017/'  # aws-2 server for GreenPhilly\n",
    "database = \"jcohen4\"\n",
    "username = \"jcohen4\"\n",
    "password = \"wingohocking\"\n",
    "authenticationDatabase = \"jcohen4\"\n",
    "client = MongoClient(mongoServer)\n",
    "db = client[database]   # use or create the database\n",
    "db.authenticate(username, password, source=authenticationDatabase)  # pass credentials to database\n",
    "collectionName = 'y17m04d24_45_Subcat_wakefield_BR_RG_Only'\n",
    "thisRunCollection = db[collectionName]    # use or create the collection\n",
    "print subcatMaxLID['TT14-574_shed']['MorrisTT']"
   ]
  },
  {
   "cell_type": "markdown",
   "metadata": {},
   "source": [
    "### Execute the Multirun Case for a single specified LID after Zero Run Case is run BELOW"
   ]
  },
  {
   "cell_type": "code",
   "execution_count": 12,
   "metadata": {
    "collapsed": false
   },
   "outputs": [
    {
     "name": "stdout",
     "output_type": "stream",
     "text": [
      "3.0 min, 5.51 sec\n",
      "Stored record 58fdda88c101574830c3b79e for 0.10 fraction of each subcatchment's treatable area\n",
      "3.0 min, 3.08 sec\n",
      "Stored record 58fddb40c101574830c3b79f for 0.20 fraction of each subcatchment's treatable area\n",
      "3.0 min, 3.08 sec\n",
      "Stored record 58fddbf9c101574830c3b7a0 for 0.30 fraction of each subcatchment's treatable area\n",
      "2.0 min, 58.50 sec\n",
      "Stored record 58fddcacc101574830c3b7a1 for 0.40 fraction of each subcatchment's treatable area\n",
      "2.0 min, 59.47 sec\n",
      "Stored record 58fddd61c101574830c3b7a2 for 0.50 fraction of each subcatchment's treatable area\n",
      "2.0 min, 57.77 sec\n",
      "Stored record 58fdde14c101574830c3b7a3 for 0.60 fraction of each subcatchment's treatable area\n",
      "3.0 min, 3.38 sec\n",
      "Stored record 58fddecdc101574830c3b7a4 for 0.70 fraction of each subcatchment's treatable area\n",
      "3.0 min, 8.21 sec\n",
      "Stored record 58fddf8bc101574830c3b7a5 for 0.80 fraction of each subcatchment's treatable area\n",
      "3.0 min, 9.70 sec\n",
      "Stored record 58fde04ac101574830c3b7a6 for 0.90 fraction of each subcatchment's treatable area\n",
      "3.0 min, 8.09 sec\n",
      "Stored record 58fde107c101574830c3b7a7 for 1.00 fraction of each subcatchment's treatable area\n"
     ]
    }
   ],
   "source": [
    "lid = 'wakefield_BR_RG'\n",
    "lidFractList = [0.1, 0.2, 0.3, 0.4, 0.5, 0.6, 0.7, 0.8, 0.9, 1.0]  # Fraction of the maximum number of LID in each subcatchment\n",
    "for lidFract in lidFractList:\n",
    "    for lidShed in lidShedsList:\n",
    "        numLID = int(lidFract*subcatMaxLID[lidShed][lid])\n",
    "        model.lidChangeNumber(lidShed,lid,numLID)\n",
    "        area = model.getLidArea(lidShed,lid)   # the lid footprint in the subcatchment (all subcats the same now)\n",
    "        model.lidChangeArea(lidShed,lid,area,contribImpervAreaAcre[lid])  # must call to properly set FromImp parameter !!\n",
    "    swmmInputFileStr=model.output()\n",
    "    swmmRptDict = swmm_run_return_results(swmmInputFileStr)\n",
    "    docId = thisRunCollection.insert_one(swmmRptDict).inserted_id\n",
    "    print \"Stored record %s for %0.2f fraction of each subcatchment's treatable area\" % \\\n",
    "          (docId,lidFract)"
   ]
  },
  {
   "cell_type": "markdown",
   "metadata": {},
   "source": [
    "## RUN ONLY ONCE:  the Zero LID case"
   ]
  },
  {
   "cell_type": "code",
   "execution_count": 10,
   "metadata": {
    "collapsed": false
   },
   "outputs": [
    {
     "name": "stdout",
     "output_type": "stream",
     "text": [
      "3.0 min, 4.82 sec\n",
      "Stored record 58fdd8ffc101574830c3b79d for zero LID usage\n"
     ]
    }
   ],
   "source": [
    "swmmInpFileStr = read_inp_file(swmmInpFileNameStr)\n",
    "swmmRptDict = swmm_run_return_results(swmmInpFileStr)\n",
    "zeroLidDocId = thisRunCollection.insert_one(swmmRptDict).inserted_id\n",
    "print \"Stored record %s for zero LID usage\" % zeroLidDocId"
   ]
  },
  {
   "cell_type": "markdown",
   "metadata": {},
   "source": [
    "### Display Zero LID case"
   ]
  },
  {
   "cell_type": "code",
   "execution_count": 11,
   "metadata": {
    "collapsed": false
   },
   "outputs": [
    {
     "name": "stdout",
     "output_type": "stream",
     "text": [
      "4109.36\n",
      "43.97\n",
      "25.592\n"
     ]
    }
   ],
   "source": [
    "# Show all collections in the database:\n",
    "# collectionNames = sorted(db.collection_names())\n",
    "# collectionNames\n",
    "runs = db[collectionName]\n",
    "cursor = runs.find()\n",
    "noLidRun = cursor[0]\n",
    "print noLidRun['peakCFS']\n",
    "print noLidRun['precipIN']\n",
    "print noLidRun['runoffIN']"
   ]
  },
  {
   "cell_type": "markdown",
   "metadata": {},
   "source": [
    "### Old SWMMWise code below"
   ]
  },
  {
   "cell_type": "code",
   "execution_count": null,
   "metadata": {
    "collapsed": false
   },
   "outputs": [],
   "source": [
    "# Run or continue a run:\n",
    "%autoreload\n",
    "import yaml\n",
    "from swmm_run import *\n",
    "from swmm_objects import *\n",
    "from swmm_read import *\n",
    "from copy import deepcopy\n",
    "\n",
    "from pymongo import MongoClient\n",
    "from datetime import datetime\n",
    "import sys\n",
    "\n",
    "#  IMPORTANT:  Set these for each run:\n",
    "#################################################\n",
    "# mongoServer = None   # use the local mongodb server installed on your computer\n",
    "#mongoServer = 'mongodb://server.mcgarity.info:27017/'  # Art's personal server\n",
    "#mongoServer = 'mongodb://ubuntu:27017/'  # ubuntu Linux virtual machine on Art's Mac\n",
    "mongoServer = 'mongodb://aws-2.greenphilly.net:27017/'  # aws-2 server for GreenPhilly\n",
    "database = \"jcohen4\"\n",
    "username = \"jcohen4\"\n",
    "password = \"wingohocking\"\n",
    "authenticationDatabase = \"jcohen4\"\n",
    "swmmInpFile = \"wingohocking_PWD_Wakefield.inp\"  # initial SWMM .inp file\n",
    "lidListFile = \"PWD_wingo_Wakefield_LID_List.yaml\"\n",
    "################################################\n",
    "squareFeetInOneAcre = 43560.0\n",
    "client = MongoClient(mongoServer)\n",
    "db = client[database]   # use or create the database\n",
    "db.authenticate(username, password, source=authenticationDatabase)  # pass credentials to database\n",
    "collection = 'y17m01d10_AEM_45_Subcat_Wakefield_Rain_Garden_1'\n",
    "thisRunCollection = db[collection]\n",
    "infile = open(swmmInpFile,'r')\n",
    "swmmInpStr = infile.readlines()\n",
    "infile.close()\n",
    "(section_names,sections) = read_inp(swmmInpStr)\n",
    "modelTemp = swmm_model(\"ModelTemp\",section_names,sections)\n",
    "f = open(lidListFile,'r')   # Read the LID parameters used to calculate [LID_USAGE]\n",
    "lidList = yaml.load(f)  # list of dicts, one for each line in [LID_USAGE]\n",
    "f.close()\n",
    "#########################\n",
    "numSubcatch = 45\n",
    "numLID = 1\n",
    "numberOfSimulations = 50\n",
    "#########################\n",
    "numVariables = numSubcatch*numLID\n",
    "initialRemainingTreatableArea = {}   # Dict indexed by subcatchment name string \n",
    "for lidListEntry in range(numVariables):\n",
    "    thisLidInfo = lidList[lidListEntry]\n",
    "    subcatName = thisLidInfo['Subcat']\n",
    "    areaSubcat = modelTemp.getSubcatchmentArea(subcatName)     # Acres   \n",
    "    impPctSubcat = modelTemp.getSubcatchmentPctImperv(subcatName)        \n",
    "    initialRemainingTreatableArea[subcatName] = (impPctSubcat/100.0)*areaSubcat  # INITIAL values (Acre)\n",
    "#print initialRemainingTreatableArea\n",
    "permList = []\n",
    "greenedAcreList = []\n",
    "\n",
    "for i in range(0,numberOfSimulations):#number of simulations\n",
    "    remainingTreatableArea = dict(initialRemainingTreatableArea)   # Dict indexed by subcatchment name string  \n",
    "    lidListEntry = 0\n",
    "    randomPerm = []\n",
    "    greened = []\n",
    "    lidListEntry = 0    \n",
    "    for lid in range(numLID):\n",
    "        for subcat in range(numSubcatch):\n",
    "            thisLidInfo = lidList[lidListEntry]\n",
    "            #lidName = thisLidInfo['LID']\n",
    "            subcatName = thisLidInfo['Subcat']\n",
    "            areaSubcat = modelTemp.getSubcatchmentArea(subcatName)     # Acres          \n",
    "            contribImpervArea = thisLidInfo['ContribImpervArea']/squareFeetInOneAcre  #ft2 to Acres        \n",
    "            numLidMaximum = int(remainingTreatableArea[subcatName]/contribImpervArea)\n",
    "            #randomIntegerUpper = randint(1,19)\n",
    "            #upperFraction = float(randomIntegerUpper)/20.0\n",
    "\n",
    "            #randomScaleFactor = randint(3,50)\n",
    "            #random1 = randint(1,randomScaleFactor)\n",
    "            #random2 = randint(1,randomScaleFactor)\n",
    "            #if random1 > random2:\n",
    "            #    randomUpper = random1\n",
    "            #    randomLower = random2\n",
    "            #else:\n",
    "            #    randomUpper = random2\n",
    "            #    randomLower = random1\n",
    "            ############\n",
    "            #lower = numLidMaximum/randomUpper\n",
    "            #upper = numLidMaximum/randomLower \n",
    "            ############\n",
    "            fixedLowerFraction = 0.7\n",
    "            fixedUpperFraction = 0.98\n",
    "            lower = int(fixedLowerFraction*numLidMaximum)\n",
    "            upper = int(fixedUpperFraction*numLidMaximum)\n",
    "            ############\n",
    "            randomNumberLid = randint(lower,upper)\n",
    "            randomPerm.append(randomNumberLid)\n",
    "            greened.append(randomNumberLid*lidList[lidListEntry]['GreenedAcres'])\n",
    "            remainingTreatableArea[subcatName] = remainingTreatableArea[subcatName] - \\\n",
    "                  randomNumberLid*contribImpervArea #Acres\n",
    "            lidListEntry += 1\n",
    "        #print remainingTreatableArea\n",
    "    permList.append(randomPerm)\n",
    "    greenedAcreList.append(greened)\n",
    "#print permList \n",
    "#print greenedAcreList\n",
    "\n",
    "\n",
    "runNum = 0\n",
    "for perm in permList:\n",
    "    greened = greenedAcreList[runNum]\n",
    "    totGreenedAcres = sum(greened)\n",
    "    runNum += 1\n",
    "    print \"Run Number %s\" % runNum  \n",
    "    print \"Total Greened Acres %0.2f\" % totGreenedAcres\n",
    "    print perm\n",
    "    newRunList=deepcopy(lidList)  # copy the zeroLidList into a new list\n",
    "    #totalAreaTreated = 0\n",
    "    for i in range(0,numVariables): \n",
    "        #lidNumber = perm[i] # random number of LIDs for this variable\n",
    "        #subArea = newRunList[i]['SubcatArea'] #area of subcatchment\n",
    "        newRunList[i]['Number'] = perm[i]  # random number of lids for this variable\n",
    "    newRunDocId = runswmm(newRunList,swmmInpStr,thisRunCollection,perm)\n",
    "    print \"stored this run in mongodb DocId = %s (zero means failed SWMM run)\" % newRunDocId\n",
    "    #cursor = thisRunCollection.find_one({'_id':newRunDocId})\n",
    "\n",
    "    #print \"Stored record %s for volume = %s\" % (newRunDocId,newVolume)\n",
    "    #print \"volumeReduction = %s\" % (volumeReduction)\n",
    "print \"FINISHED ALL RUNS\"\n"
   ]
  }
 ],
 "metadata": {
  "anaconda-cloud": {},
  "kernelspec": {
   "display_name": "Python [Root]",
   "language": "python",
   "name": "Python [Root]"
  },
  "language_info": {
   "codemirror_mode": {
    "name": "ipython",
    "version": 2
   },
   "file_extension": ".py",
   "mimetype": "text/x-python",
   "name": "python",
   "nbconvert_exporter": "python",
   "pygments_lexer": "ipython2",
   "version": "2.7.12"
  }
 },
 "nbformat": 4,
 "nbformat_minor": 0
}
