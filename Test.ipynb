{
 "cells": [
  {
   "cell_type": "code",
   "execution_count": 2,
   "metadata": {
    "collapsed": false
   },
   "outputs": [
    {
     "name": "stdout",
     "output_type": "stream",
     "text": [
      "0.0 min, 0.01 sec\n",
      "\n",
      "  EPA STORM WATER MANAGEMENT MODEL - VERSION 5.1 (Build 5.1.010)\n",
      "  --------------------------------------------------------------\n",
      "\n",
      "  \n",
      "  ERROR 191: simulation start date comes after ending date.\n",
      "\n",
      "  Analysis begun on:  Sat Apr 22 17:42:38 2017\n",
      "  Analysis ended on:  Sat Apr 22 17:42:38 2017\n",
      "  Total elapsed time: < 1 sec\n"
     ]
    }
   ],
   "source": [
    "from swmm_objects import *\n",
    "from swmm_read import *\n",
    "from swmm_run import *\n",
    "swmmInpFileNameStr = \"wingohocking_PWD_2012-13.inp\"  # initial SWMM .inp file\n",
    "infile = open(swmmInpFileNameStr,'r')\n",
    "swmmInpStr = infile.read()\n",
    "\n",
    "infile.close()\n",
    "#swmmInpStr\n",
    "#swmmRptDict = swmm_run_return_results(swmmInpStr)\n",
    "(section_names,sections) = read_inp(swmmInpStr)\n",
    "model = swmm_model(\"Model\",section_names,sections)\n",
    "swmmInputFileStr=model.output()\n",
    "\n",
    "swmmRptDict = swmm_run_return_results(swmmInputFileStr)\n",
    "#swmmRptDict"
   ]
  },
  {
   "cell_type": "code",
   "execution_count": null,
   "metadata": {
    "collapsed": true
   },
   "outputs": [],
   "source": []
  },
  {
   "cell_type": "code",
   "execution_count": null,
   "metadata": {
    "collapsed": true
   },
   "outputs": [],
   "source": []
  }
 ],
 "metadata": {
  "kernelspec": {
   "display_name": "Python [default]",
   "language": "python",
   "name": "python2"
  },
  "language_info": {
   "codemirror_mode": {
    "name": "ipython",
    "version": 2
   },
   "file_extension": ".py",
   "mimetype": "text/x-python",
   "name": "python",
   "nbconvert_exporter": "python",
   "pygments_lexer": "ipython2",
   "version": "2.7.12"
  }
 },
 "nbformat": 4,
 "nbformat_minor": 1
}
