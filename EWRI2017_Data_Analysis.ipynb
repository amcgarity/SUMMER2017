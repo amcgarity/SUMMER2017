{
 "cells": [
  {
   "cell_type": "code",
   "execution_count": 1,
   "metadata": {
    "collapsed": false
   },
   "outputs": [
    {
     "data": {
      "text/plain": [
       "True"
      ]
     },
     "execution_count": 1,
     "metadata": {},
     "output_type": "execute_result"
    }
   ],
   "source": [
    "import yaml\n",
    "from swmm_objects import *\n",
    "from swmm_read import *\n",
    "from swmm_run import *\n",
    "from pymongo import MongoClient\n",
    "\n",
    "# Specify MongoDB database server to use and login with credentials:    \n",
    "mongoServer = 'mongodb://aws-2.greenphilly.net:27017/'  # aws-2 server for GreenPhilly\n",
    "database = \"jcohen4\"\n",
    "username = \"jcohen4\"\n",
    "password = \"wingohocking\"\n",
    "authenticationDatabase = \"jcohen4\"\n",
    "client = MongoClient(mongoServer)\n",
    "db = client[database]   # use or create the database\n",
    "db.authenticate(username, password, source=authenticationDatabase)  # pass credentials to database\n",
    "\n",
    "# Show all collections in the database:\n",
    "#collectionNames = sorted(db.collection_names())\n",
    "#collectionNames\n"
   ]
  },
  {
   "cell_type": "code",
   "execution_count": 4,
   "metadata": {
    "collapsed": false
   },
   "outputs": [
    {
     "name": "stdout",
     "output_type": "stream",
     "text": [
      "Zero LID CSO Volume = 1565 MGAL\n",
      "CSO Volume = 1368 MGAL,  CSO Reduction = 198 MGAL\n",
      "CSO Volume = 1172 MGAL,  CSO Reduction = 393 MGAL\n",
      "CSO Volume = 990 MGAL,  CSO Reduction = 576 MGAL\n",
      "CSO Volume = 823 MGAL,  CSO Reduction = 742 MGAL\n",
      "CSO Volume = 667 MGAL,  CSO Reduction = 898 MGAL\n",
      "CSO Volume = 533 MGAL,  CSO Reduction = 1032 MGAL\n",
      "CSO Volume = 419 MGAL,  CSO Reduction = 1147 MGAL\n",
      "CSO Volume = 323 MGAL,  CSO Reduction = 1243 MGAL\n",
      "CSO Volume = 247 MGAL,  CSO Reduction = 1318 MGAL\n",
      "CSO Volume = 184 MGAL,  CSO Reduction = 1381 MGAL\n"
     ]
    }
   ],
   "source": [
    "collectionName = 'y17m04d24_45_Subcat_wakefield_BR_RG_Only'\n",
    "runs = db[collectionName]\n",
    "cursor = runs.find()\n",
    "\n",
    "# Specify important files and parameters for the location:\n",
    "swmmInpFileNameStr = \"wingohocking_PWD_2012-13.inp\"  # initial SWMM .inp file\n",
    "treatmentRatio = 0.081   # cfs/imperv_acre calibrated for Wingohocking T-14 outfall 7/1/12 - 6/30/13\n",
    "thresholdOutflowCFS = get_cso_threshold(swmmInpFileNameStr,treatmentRatio)\n",
    "\n",
    "noLidRunDict = cursor[0]\n",
    "zeroLIDCSOVolumeMGal = get_cso_volume_mgal(noLidRunDict,thresholdOutflowCFS)\n",
    "print \"Zero LID CSO Volume = %0.0f MGAL\" % zeroLIDCSOVolumeMGal\n",
    "\n",
    "lidFractList = [0.1, 0.2, 0.3, 0.4, 0.5, 0.6, 0.7, 0.8, 0.9, 1.0]  # Fraction of the maximum number of LID in each subcatchment\n",
    "numRuns = len(lidFractList)\n",
    "for runNum in range(1,(numRuns+1)):\n",
    "    swmmRptDict = cursor[runNum]\n",
    "    csoVolumeMgal = get_cso_volume_mgal(swmmRptDict,thresholdOutflowCFS)\n",
    "    csoReductionMgal = zeroLIDCSOVolumeMGal - csoVolumeMgal\n",
    "    print \"CSO Volume = %0.0f MGAL,  CSO Reduction = %0.0f MGAL\" % (csoVolumeMgal,csoReductionMgal)\n",
    "\n",
    "\n",
    "\n"
   ]
  },
  {
   "cell_type": "markdown",
   "metadata": {
    "collapsed": true
   },
   "source": [
    "### Comparing multiple single LID multiple runs"
   ]
  },
  {
   "cell_type": "code",
   "execution_count": 7,
   "metadata": {
    "collapsed": false
   },
   "outputs": [
    {
     "name": "stdout",
     "output_type": "stream",
     "text": [
      "Zero LID CSO Volume = 1565 MGAL\n",
      "For collection named: y17m04d23_45_Subcat_MorrisTT_Only:\n",
      "CSO Volume = 1383 MGAL,  CSO Reduction = 183 MGAL\n",
      "CSO Volume = 1201 MGAL,  CSO Reduction = 364 MGAL\n",
      "CSO Volume = 1034 MGAL,  CSO Reduction = 532 MGAL\n",
      "CSO Volume = 876 MGAL,  CSO Reduction = 689 MGAL\n",
      "CSO Volume = 731 MGAL,  CSO Reduction = 835 MGAL\n",
      "CSO Volume = 610 MGAL,  CSO Reduction = 956 MGAL\n",
      "CSO Volume = 508 MGAL,  CSO Reduction = 1058 MGAL\n",
      "CSO Volume = 428 MGAL,  CSO Reduction = 1137 MGAL\n",
      "CSO Volume = 368 MGAL,  CSO Reduction = 1198 MGAL\n",
      "CSO Volume = 321 MGAL,  CSO Reduction = 1244 MGAL\n",
      "For collection named: y17m04d24_45_Subcat_wakefield_BR_RG_Only:\n",
      "CSO Volume = 1368 MGAL,  CSO Reduction = 198 MGAL\n",
      "CSO Volume = 1172 MGAL,  CSO Reduction = 393 MGAL\n",
      "CSO Volume = 990 MGAL,  CSO Reduction = 576 MGAL\n",
      "CSO Volume = 823 MGAL,  CSO Reduction = 742 MGAL\n",
      "CSO Volume = 667 MGAL,  CSO Reduction = 898 MGAL\n",
      "CSO Volume = 533 MGAL,  CSO Reduction = 1032 MGAL\n",
      "CSO Volume = 419 MGAL,  CSO Reduction = 1147 MGAL\n",
      "CSO Volume = 323 MGAL,  CSO Reduction = 1243 MGAL\n",
      "CSO Volume = 247 MGAL,  CSO Reduction = 1318 MGAL\n",
      "CSO Volume = 184 MGAL,  CSO Reduction = 1381 MGAL\n"
     ]
    }
   ],
   "source": [
    "RainBarrel = 'y17m04d23_45_Subcat_Rainbarrel_Only'\n",
    "TreeTrench = 'y17m04d23_45_Subcat_MorrisTT_Only'\n",
    "RainGarden = 'y17m04d24_45_Subcat_wakefield_BR_RG_Only'\n",
    "collectionList = [TreeTrench,RainGarden]\n",
    "\n",
    "# Specify important files and parameters for the location:\n",
    "swmmInpFileNameStr = \"wingohocking_PWD_2012-13.inp\"  # initial SWMM .inp file\n",
    "treatmentRatio = 0.081   # cfs/imperv_acre calibrated for Wingohocking T-14 outfall 7/1/12 - 6/30/13\n",
    "thresholdOutflowCFS = get_cso_threshold(swmmInpFileNameStr,treatmentRatio)\n",
    "\n",
    "noLidRunDict = cursor[0]\n",
    "zeroLIDCSOVolumeMGal = get_cso_volume_mgal(noLidRunDict,thresholdOutflowCFS)\n",
    "print \"Zero LID CSO Volume = %0.0f MGAL\" % zeroLIDCSOVolumeMGal\n",
    "\n",
    "lidFractList = [0.1, 0.2, 0.3, 0.4, 0.5, 0.6, 0.7, 0.8, 0.9, 1.0]  # Fraction of the maximum number of LID in each subcatchment\n",
    "numRuns = len(lidFractList)\n",
    "for collection in collectionList:\n",
    "    print \"For collection named: %s:\" % collection\n",
    "    runs = db[collection]\n",
    "    cursor = runs.find()\n",
    "    for runNum in range(1,(numRuns+1)):\n",
    "        swmmRptDict = cursor[runNum]\n",
    "        csoVolumeMgal = get_cso_volume_mgal(swmmRptDict,thresholdOutflowCFS)\n",
    "        csoReductionMgal = zeroLIDCSOVolumeMGal - csoVolumeMgal\n",
    "        print \"CSO Volume = %0.0f MGAL,  CSO Reduction = %0.0f MGAL\" % (csoVolumeMgal,csoReductionMgal)    "
   ]
  },
  {
   "cell_type": "code",
   "execution_count": null,
   "metadata": {
    "collapsed": true
   },
   "outputs": [],
   "source": []
  }
 ],
 "metadata": {
  "kernelspec": {
   "display_name": "Python [Root]",
   "language": "python",
   "name": "Python [Root]"
  },
  "language_info": {
   "codemirror_mode": {
    "name": "ipython",
    "version": 2
   },
   "file_extension": ".py",
   "mimetype": "text/x-python",
   "name": "python",
   "nbconvert_exporter": "python",
   "pygments_lexer": "ipython2",
   "version": "2.7.12"
  }
 },
 "nbformat": 4,
 "nbformat_minor": 1
}
